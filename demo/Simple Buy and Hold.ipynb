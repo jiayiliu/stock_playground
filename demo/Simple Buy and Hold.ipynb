{
 "cells": [
  {
   "cell_type": "code",
   "execution_count": 1,
   "metadata": {
    "collapsed": true
   },
   "outputs": [],
   "source": [
    "from iexfinance import get_historical_data\n",
    "import pandas as pd\n",
    "from datetime import timedelta, datetime"
   ]
  },
  {
   "cell_type": "code",
   "execution_count": 3,
   "metadata": {},
   "outputs": [],
   "source": [
    "import sys\n",
    "sys.path.append(\"../\")\n",
    "from src import Portfolio, simulate, get_history, BuyDipHold, BuyAllHold"
   ]
  },
  {
   "cell_type": "code",
   "execution_count": 4,
   "metadata": {},
   "outputs": [],
   "source": [
    "# check the history of a year\n",
    "end = datetime.today()\n",
    "start = end - timedelta(days=365)"
   ]
  },
  {
   "cell_type": "markdown",
   "metadata": {},
   "source": [
    "# Experiment with one period"
   ]
  },
  {
   "cell_type": "code",
   "execution_count": 18,
   "metadata": {},
   "outputs": [
    {
     "name": "stdout",
     "output_type": "stream",
     "text": [
      "ending balance is 16290.290800\n"
     ]
    }
   ],
   "source": [
    "# Buy at 2% dip for the following stocks\n",
    "stocks = [\"AAPL\",\"MSFT\",\"FB\",\"AMZN\"]\n",
    "history = get_history(start, end, stocks)\n",
    "port = Portfolio(balance=10000)\n",
    "strat = BuyDipHold(down_percent=0.02)\n",
    "end_value, _ = simulate(start,end, strat, port, history=history)\n",
    "print(\"ending balance is %f\"%end_value)"
   ]
  },
  {
   "cell_type": "code",
   "execution_count": 20,
   "metadata": {},
   "outputs": [
    {
     "name": "stdout",
     "output_type": "stream",
     "text": [
      "ending balance is 11522.681600\n"
     ]
    }
   ],
   "source": [
    "# Buy at 2% dip for the following stocks\n",
    "stocks = [\"GS\",\"BAC\",\"JPM\"]\n",
    "history = get_history(start, end, stocks)\n",
    "port = Portfolio(balance=10000)\n",
    "strat = BuyDipHold(down_percent=0.02)\n",
    "end_value, _ = simulate(start,end, strat, port, history=history)\n",
    "print(\"ending balance is %f\"%end_value)"
   ]
  },
  {
   "cell_type": "code",
   "execution_count": 21,
   "metadata": {},
   "outputs": [
    {
     "name": "stdout",
     "output_type": "stream",
     "text": [
      "ending balance is 11574.407800\n"
     ]
    }
   ],
   "source": [
    "# Buy SPY - Comparison\n",
    "spy = get_history(start, end, [\"SPY\"])\n",
    "port = Portfolio(balance=10000)\n",
    "strat = BuyAllHold()\n",
    "end_value, _ = simulate(start,end, strat, port, history=spy)\n",
    "print(\"ending balance is %f\"%end_value)"
   ]
  },
  {
   "cell_type": "code",
   "execution_count": 22,
   "metadata": {},
   "outputs": [
    {
     "name": "stdout",
     "output_type": "stream",
     "text": [
      "ending balance is 14319.590400\n"
     ]
    }
   ],
   "source": [
    "# Buy at begining for the following stocks\n",
    "stocks = [\"AAPL\",\"MSFT\",\"FB\",\"AMZN\"]\n",
    "history = get_history(start, end, stocks)\n",
    "port = Portfolio(balance=10000)\n",
    "strat = BuyAllHold()\n",
    "end_value, _ = simulate(start,end, strat, port, history=history)\n",
    "print(\"ending balance is %f\"%end_value)"
   ]
  },
  {
   "cell_type": "markdown",
   "metadata": {},
   "source": [
    "# Experiment with multiple periods (invest once a quater)"
   ]
  },
  {
   "cell_type": "code",
   "execution_count": 17,
   "metadata": {},
   "outputs": [
    {
     "name": "stdout",
     "output_type": "stream",
     "text": [
      "ending balance is 13238.727200\n"
     ]
    }
   ],
   "source": [
    "# Buy at 2% dip for the following stocks\n",
    "stocks = [\"AAPL\",\"MSFT\",\"FB\",\"AMZN\"]\n",
    "history = get_history(start, end, stocks)\n",
    "# invest every month with $1000\n",
    "this_start = start\n",
    "strat = BuyDipHold(down_percent=0.02)\n",
    "port = Portfolio(balance=1000)\n",
    "for i in range(12): # total 360 days\n",
    "    this_end = this_start+timedelta(days=29)\n",
    "    end_value, port = simulate(this_start, this_end, strat, port, history=history)\n",
    "    port.balance += 1000 # invest 1000 more every month\n",
    "    this_start = this_end + timedelta(days=1)\n",
    "print(\"ending balance is %f\"%end_value)"
   ]
  },
  {
   "cell_type": "code",
   "execution_count": 24,
   "metadata": {},
   "outputs": [
    {
     "name": "stdout",
     "output_type": "stream",
     "text": [
      "ending balance is 13238.727200\n"
     ]
    }
   ],
   "source": [
    "# Buy at 1% dip for the following stocks\n",
    "stocks = [\"AAPL\",\"MSFT\",\"FB\",\"AMZN\"]\n",
    "history = get_history(start, end, stocks)\n",
    "# invest every month with $1000\n",
    "this_start = start\n",
    "strat = BuyDipHold(down_percent=0.02)\n",
    "port = Portfolio(balance=1000)\n",
    "for i in range(12): # total 360 days\n",
    "    this_end = this_start+timedelta(days=29)\n",
    "    end_value, port = simulate(this_start, this_end, strat, port, history=history)\n",
    "    port.balance += 1000 # invest 1000 more every month\n",
    "    this_start = this_end + timedelta(days=1)\n",
    "print(\"ending balance is %f\"%end_value)"
   ]
  },
  {
   "cell_type": "code",
   "execution_count": 25,
   "metadata": {},
   "outputs": [
    {
     "name": "stdout",
     "output_type": "stream",
     "text": [
      "ending balance is 14216.789300\n"
     ]
    }
   ],
   "source": [
    "# Buy at 1% dip for the following stocks\n",
    "stocks = [\"AAPL\",\"MSFT\",\"FB\",\"AMZN\"]\n",
    "history = get_history(start, end, stocks)\n",
    "# invest every month with $1000\n",
    "this_start = start\n",
    "strat = BuyAllHold()\n",
    "port = Portfolio(balance=1000)\n",
    "for i in range(12): # total 360 days\n",
    "    this_end = this_start+timedelta(days=29)\n",
    "    end_value, port = simulate(this_start, this_end, strat, port, history=history)\n",
    "    port.balance += 1000 # invest 1000 more every month\n",
    "    this_start = this_end + timedelta(days=1)\n",
    "print(\"ending balance is %f\"%end_value)"
   ]
  },
  {
   "cell_type": "code",
   "execution_count": 29,
   "metadata": {},
   "outputs": [
    {
     "name": "stdout",
     "output_type": "stream",
     "text": [
      "dip:1.000000 percent end value is 1374.179000\n",
      "dip:2.000000 percent end value is 1144.736000\n",
      "dip:3.000000 percent end value is 1119.300000\n",
      "dip:4.000000 percent end value is 1119.300000\n",
      "dip:5.000000 percent end value is 1119.300000\n",
      "dip:6.000000 percent end value is 1000.000000\n",
      "dip:7.000000 percent end value is 1000.000000\n",
      "dip:8.000000 percent end value is 1000.000000\n",
      "dip:9.000000 percent end value is 1000.000000\n",
      "dip:10.000000 percent end value is 1000.000000\n"
     ]
    }
   ],
   "source": [
    "# Examine best dip threshold  (!! be careful of the indication !!)\n",
    "end = datetime.today()\n",
    "start = end - timedelta(days=365)\n",
    "stocks = [\"AAPL\",\"MSFT\",\"FB\",\"AMZN\"]\n",
    "history = get_history(start, end, stocks)\n",
    "for i in range(10):\n",
    "    dip = i*0.01+0.01\n",
    "    strat = BuyDipHold(down_percent=dip)\n",
    "    port = Portfolio(balance=1000)\n",
    "    end_value, _= simulate(start, end, strat, port, history=history)\n",
    "    print(\"dip:%f percent end value is %f\"%(dip*100, end_value))"
   ]
  }
 ],
 "metadata": {
  "kernelspec": {
   "display_name": "Python [conda env:Anaconda3]",
   "language": "python",
   "name": "conda-env-Anaconda3-py"
  },
  "language_info": {
   "codemirror_mode": {
    "name": "ipython",
    "version": 3
   },
   "file_extension": ".py",
   "mimetype": "text/x-python",
   "name": "python",
   "nbconvert_exporter": "python",
   "pygments_lexer": "ipython3",
   "version": "3.6.3"
  }
 },
 "nbformat": 4,
 "nbformat_minor": 1
}
