{
 "cells": [
  {
   "cell_type": "code",
   "execution_count": 1,
   "metadata": {
    "collapsed": true
   },
   "outputs": [],
   "source": [
    "from iexfinance import get_historical_data\n",
    "import pandas as pd\n",
    "from datetime import timedelta, datetime"
   ]
  },
  {
   "cell_type": "code",
   "execution_count": 2,
   "metadata": {
    "collapsed": true
   },
   "outputs": [],
   "source": [
    "from src.Portfolio import Portfolio\n",
    "from src.Strategy import BuyDipHold\n",
    "from src.simulate import get_history, simulate"
   ]
  },
  {
   "cell_type": "code",
   "execution_count": 3,
   "metadata": {},
   "outputs": [],
   "source": [
    "# stocks to monitor and check the history of a year\n",
    "stocks = [\"AAPL\",\"MSFT\",\"FB\",\"AMZN\"]\n",
    "end = datetime.today()\n",
    "start = end - timedelta(days=365)\n",
    "history = get_history(start, end, stocks)"
   ]
  },
  {
   "cell_type": "code",
   "execution_count": 4,
   "metadata": {},
   "outputs": [
    {
     "name": "stdout",
     "output_type": "stream",
     "text": [
      "ending balance is 1486.984978\n"
     ]
    }
   ],
   "source": [
    "# Buy at 1% dip\n",
    "port = Portfolio(balance=1000)\n",
    "strat = BuyDipHold(down_percent=0.01)\n",
    "end_value = simulate(start,end, strat, port, history=history)\n",
    "print(\"ending balance is %f\"%end_value)"
   ]
  },
  {
   "cell_type": "code",
   "execution_count": 5,
   "metadata": {},
   "outputs": [
    {
     "name": "stdout",
     "output_type": "stream",
     "text": [
      "ending balance is 1680.110584\n"
     ]
    }
   ],
   "source": [
    "# Buy at 2% dip\n",
    "port = Portfolio(balance=1000)\n",
    "strat = BuyDipHold(down_percent=0.02)\n",
    "end_value = simulate(start,end, strat, port, history=history)\n",
    "print(\"ending balance is %f\"%end_value)"
   ]
  }
 ],
 "metadata": {
  "kernelspec": {
   "display_name": "Python [conda env:Anaconda3]",
   "language": "python",
   "name": "conda-env-Anaconda3-py"
  },
  "language_info": {
   "codemirror_mode": {
    "name": "ipython",
    "version": 3
   },
   "file_extension": ".py",
   "mimetype": "text/x-python",
   "name": "python",
   "nbconvert_exporter": "python",
   "pygments_lexer": "ipython3",
   "version": "3.6.3"
  }
 },
 "nbformat": 4,
 "nbformat_minor": 1
}
